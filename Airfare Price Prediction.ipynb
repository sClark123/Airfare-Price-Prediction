{
 "cells": [
  {
   "cell_type": "markdown",
   "metadata": {},
   "source": [
    "# Airfare Price Prediction Project - Data Science"
   ]
  },
  {
   "cell_type": "markdown",
   "metadata": {},
   "source": [
    "It is important for a traveller to know the fare value of a trip, and as prices of flight ticket change very often it becomes hard for a user to check different websites, and to find different deals. A flight fare prediction model will help inform the travellers when the optimal time to buy their flight tickets, and it will help us understand trends in the airline industry.\n",
    "\n",
    "The route from New York's JFK airport to London's Heathrow airport(LHR) is one of the busiest air routes in the world. I decided to try and help out the passengers who take this route, by trying to figure out what causes the prices to be higher or lower, who is more likely to offer better flight, and to create a model that'll be able to predict the price given the appropriate information of a certain flight."
   ]
  },
  {
   "cell_type": "markdown",
   "metadata": {},
   "source": [
    "## Data Collection - First Attempt\n",
    "At first, I had in mind to try and create a model that'll tell the traveller when the prices will be lowest for the route based on previous infromation. Though after searching and scanning the internet I came up with no such data, as the airlines do not publicize this information willingly, and any other companies that offer the service, do not do it free of charge. The only other dataset that seemed to give airfares and information about past flights was from the US Bureau of Transportation Statistics, but it had information on domestic flights only, so it too did not offer anything about the JFK-LHR route.\n",
    "After understanding that I'll have to get the information by myself, I started recording flight information and their prices using Amadeus's API, (https://developers.amadeus.com/). I wrote a script to get the information and I ran it once a day for a week."
   ]
  },
  {
   "cell_type": "markdown",
   "metadata": {},
   "source": [
    "### Data Analizing"
   ]
  },
  {
   "cell_type": "markdown",
   "metadata": {},
   "source": [
    "The features that I collected for each flight are as followes:\n",
    "* Airline - the airline carrier of the flight               \n",
    "* IDs - the IDs of the flight legs\n",
    "* Date_of_Journey - the date of departure\n",
    "* Route  - the airport codes for the route\n",
    "* Dep_Time - the departure time from JFK\n",
    "* Arrival_Time - the arrival time at LHR\n",
    "* Duration - the total duration of the flights, including layovers\n",
    "* Total_Stops - total stops in the journey\n",
    "* One_Way - is it a round trip or one way ticket\n",
    "* Last_Ticketing_Date - the last available date for buying the tickets\n",
    "* Cabins - the ticket's cabin, such as economy and business (or cabins if there's more than one leg)\n",
    "* Classes - the airline fare class code, for each leg\n",
    "* Checked_Bags_Included - the number of checked bags allowed \n",
    "* Price - the price of the ticket (target feature)\n",
    "* Date_Taken - the date the information was recorded"
   ]
  },
  {
   "cell_type": "code",
   "execution_count": 1,
   "metadata": {},
   "outputs": [
    {
     "name": "stdout",
     "output_type": "stream",
     "text": [
      "3.7.6 (default, Jan  8 2020, 20:23:39) [MSC v.1916 64 bit (AMD64)]\n",
      "1.0.1\n",
      "0.10.0\n"
     ]
    }
   ],
   "source": [
    "import sys; print(sys.version)\n",
    "import pandas as pd; print (pd.__version__ )\n",
    "import seaborn as sns; print (sns.__version__)\n",
    "import matplotlib.pyplot as plt; \n",
    "import numpy as np\n",
    "from sklearn import neighbors, datasets"
   ]
  },
  {
   "cell_type": "code",
   "execution_count": 2,
   "metadata": {},
   "outputs": [
    {
     "data": {
      "text/html": [
       "<div>\n",
       "<style scoped>\n",
       "    .dataframe tbody tr th:only-of-type {\n",
       "        vertical-align: middle;\n",
       "    }\n",
       "\n",
       "    .dataframe tbody tr th {\n",
       "        vertical-align: top;\n",
       "    }\n",
       "\n",
       "    .dataframe thead th {\n",
       "        text-align: right;\n",
       "    }\n",
       "</style>\n",
       "<table border=\"1\" class=\"dataframe\">\n",
       "  <thead>\n",
       "    <tr style=\"text-align: right;\">\n",
       "      <th></th>\n",
       "      <th>Airline</th>\n",
       "      <th>IDs</th>\n",
       "      <th>Date_of_Journey</th>\n",
       "      <th>Route</th>\n",
       "      <th>Dep_Time</th>\n",
       "      <th>Arrival_Time</th>\n",
       "      <th>Duration</th>\n",
       "      <th>Total_Stops</th>\n",
       "      <th>One_Way</th>\n",
       "      <th>Last_Ticketing_Date</th>\n",
       "      <th>Cabins</th>\n",
       "      <th>Classes</th>\n",
       "      <th>Checked_Bags_Included</th>\n",
       "      <th>Price</th>\n",
       "      <th>Date_Taken</th>\n",
       "    </tr>\n",
       "  </thead>\n",
       "  <tbody>\n",
       "    <tr>\n",
       "      <th>0</th>\n",
       "      <td>AEROFLOT</td>\n",
       "      <td>181,182</td>\n",
       "      <td>2020-09-24</td>\n",
       "      <td>JFK→SVO→LHR</td>\n",
       "      <td>2020-09-24T14:15:00</td>\n",
       "      <td>2020-09-25T09:50:00</td>\n",
       "      <td>PT14H35M</td>\n",
       "      <td>1</td>\n",
       "      <td>False</td>\n",
       "      <td>2020-09-24</td>\n",
       "      <td>ECONOMY,ECONOMY</td>\n",
       "      <td>R,R</td>\n",
       "      <td>1</td>\n",
       "      <td>340.87</td>\n",
       "      <td>2020-09-24</td>\n",
       "    </tr>\n",
       "    <tr>\n",
       "      <th>1</th>\n",
       "      <td>AEROFLOT</td>\n",
       "      <td>189,190</td>\n",
       "      <td>2020-09-24</td>\n",
       "      <td>JFK→SVO→LHR</td>\n",
       "      <td>2020-09-24T00:55:00</td>\n",
       "      <td>2020-09-25T09:30:00</td>\n",
       "      <td>PT27H35M</td>\n",
       "      <td>1</td>\n",
       "      <td>False</td>\n",
       "      <td>2020-09-24</td>\n",
       "      <td>ECONOMY,ECONOMY</td>\n",
       "      <td>R,R</td>\n",
       "      <td>1</td>\n",
       "      <td>340.87</td>\n",
       "      <td>2020-09-24</td>\n",
       "    </tr>\n",
       "    <tr>\n",
       "      <th>2</th>\n",
       "      <td>AEROFLOT</td>\n",
       "      <td>264,265</td>\n",
       "      <td>2020-09-24</td>\n",
       "      <td>JFK→SVO→LHR</td>\n",
       "      <td>2020-09-24T00:55:00</td>\n",
       "      <td>2020-09-25T09:50:00</td>\n",
       "      <td>PT27H55M</td>\n",
       "      <td>1</td>\n",
       "      <td>False</td>\n",
       "      <td>2020-09-24</td>\n",
       "      <td>ECONOMY,ECONOMY</td>\n",
       "      <td>R,R</td>\n",
       "      <td>1</td>\n",
       "      <td>340.87</td>\n",
       "      <td>2020-09-24</td>\n",
       "    </tr>\n",
       "    <tr>\n",
       "      <th>3</th>\n",
       "      <td>AEROFLOT</td>\n",
       "      <td>171,172</td>\n",
       "      <td>2020-09-24</td>\n",
       "      <td>JFK→SVO→LHR</td>\n",
       "      <td>2020-09-24T00:55:00</td>\n",
       "      <td>2020-09-24T21:25:00</td>\n",
       "      <td>PT15H30M</td>\n",
       "      <td>1</td>\n",
       "      <td>False</td>\n",
       "      <td>2020-09-24</td>\n",
       "      <td>ECONOMY,ECONOMY</td>\n",
       "      <td>R,R</td>\n",
       "      <td>1</td>\n",
       "      <td>340.87</td>\n",
       "      <td>2020-09-24</td>\n",
       "    </tr>\n",
       "    <tr>\n",
       "      <th>4</th>\n",
       "      <td>AEROFLOT</td>\n",
       "      <td>199,200</td>\n",
       "      <td>2020-09-24</td>\n",
       "      <td>JFK→SVO→LHR</td>\n",
       "      <td>2020-09-24T19:20:00</td>\n",
       "      <td>2020-09-25T16:00:00</td>\n",
       "      <td>PT15H40M</td>\n",
       "      <td>1</td>\n",
       "      <td>False</td>\n",
       "      <td>2020-09-24</td>\n",
       "      <td>ECONOMY,ECONOMY</td>\n",
       "      <td>R,R</td>\n",
       "      <td>1</td>\n",
       "      <td>340.87</td>\n",
       "      <td>2020-09-24</td>\n",
       "    </tr>\n",
       "  </tbody>\n",
       "</table>\n",
       "</div>"
      ],
      "text/plain": [
       "    Airline      IDs Date_of_Journey        Route             Dep_Time  \\\n",
       "0  AEROFLOT  181,182      2020-09-24  JFK→SVO→LHR  2020-09-24T14:15:00   \n",
       "1  AEROFLOT  189,190      2020-09-24  JFK→SVO→LHR  2020-09-24T00:55:00   \n",
       "2  AEROFLOT  264,265      2020-09-24  JFK→SVO→LHR  2020-09-24T00:55:00   \n",
       "3  AEROFLOT  171,172      2020-09-24  JFK→SVO→LHR  2020-09-24T00:55:00   \n",
       "4  AEROFLOT  199,200      2020-09-24  JFK→SVO→LHR  2020-09-24T19:20:00   \n",
       "\n",
       "          Arrival_Time  Duration  Total_Stops  One_Way Last_Ticketing_Date  \\\n",
       "0  2020-09-25T09:50:00  PT14H35M            1    False          2020-09-24   \n",
       "1  2020-09-25T09:30:00  PT27H35M            1    False          2020-09-24   \n",
       "2  2020-09-25T09:50:00  PT27H55M            1    False          2020-09-24   \n",
       "3  2020-09-24T21:25:00  PT15H30M            1    False          2020-09-24   \n",
       "4  2020-09-25T16:00:00  PT15H40M            1    False          2020-09-24   \n",
       "\n",
       "            Cabins Classes  Checked_Bags_Included   Price  Date_Taken  \n",
       "0  ECONOMY,ECONOMY     R,R                      1  340.87  2020-09-24  \n",
       "1  ECONOMY,ECONOMY     R,R                      1  340.87  2020-09-24  \n",
       "2  ECONOMY,ECONOMY     R,R                      1  340.87  2020-09-24  \n",
       "3  ECONOMY,ECONOMY     R,R                      1  340.87  2020-09-24  \n",
       "4  ECONOMY,ECONOMY     R,R                      1  340.87  2020-09-24  "
      ]
     },
     "execution_count": 2,
     "metadata": {},
     "output_type": "execute_result"
    }
   ],
   "source": [
    "# we'll load all the data into dataframe and merge them one with the other to get one large data frame. \n",
    "df_flights = pd.read_csv('Airfare1.csv')\n",
    "filename = 'Airfare'\n",
    "ending = '.csv'\n",
    "for i in np.linspace(2,7,6):\n",
    "    df_flights = df_flights.append(pd.read_csv(filename+str(int(i))+ending))\n",
    "\n",
    "df_flights.head()"
   ]
  },
  {
   "cell_type": "markdown",
   "metadata": {},
   "source": [
    "Lets see how many stops these flights have:"
   ]
  },
  {
   "cell_type": "code",
   "execution_count": 3,
   "metadata": {},
   "outputs": [
    {
     "data": {
      "text/plain": [
       "Text(0, 0.5, 'Count of flights')"
      ]
     },
     "execution_count": 3,
     "metadata": {},
     "output_type": "execute_result"
    },
    {
     "data": {
      "image/png": "[encoded data removed]",
      "text/plain": [
       "<Figure size 360x360 with 1 Axes>"
      ]
     },
     "metadata": {
      "needs_background": "light"
     },
     "output_type": "display_data"
    }
   ],
   "source": [
    "plt.figure(figsize = (5 , 5))\n",
    "plt.title('Count of Flights per stops')\n",
    "sns.countplot(x = 'Total_Stops', data = df_flights)\n",
    "plt.xlabel('Stops')\n",
    "plt.ylabel('Count of flights')"
   ]
  },
  {
   "cell_type": "markdown",
   "metadata": {},
   "source": [
    "Let's also see how many of the flights aren't round trips rather only one way tickets "
   ]
  },
  {
   "cell_type": "code",
   "execution_count": 4,
   "metadata": {},
   "outputs": [
    {
     "name": "stdout",
     "output_type": "stream",
     "text": [
      "number of one way tickets: 0\n"
     ]
    }
   ],
   "source": [
    "print('number of one way tickets:',len(df_flights.where(df_flights['One_Way']==True).dropna()))"
   ]
  },
  {
   "cell_type": "markdown",
   "metadata": {},
   "source": [
    "So the majority of the flights have one stop, but there are also a lot of non-stop flights.\n",
    "Also every single one of these flights is part of a round trip\n",
    "\n",
    "One of the most important features of a flight is its duration and it's given to us in ISO 8601 format(https://en.wikipedia.org/wiki/ISO_8601) and it'll be more useful to work with a single number, so we'll convert the hours to minutes and change the column to be in minutes only."
   ]
  },
  {
   "cell_type": "code",
   "execution_count": 5,
   "metadata": {},
   "outputs": [],
   "source": [
    "def convert_dur_to_mins(dur):\n",
    "    dur = dur[2:] # get rid of 'PT'\n",
    "    ind_h,ind_m = dur.find('H'),dur.find('M')\n",
    "    hours = dur[:ind_h]\n",
    "    if hours!='':\n",
    "        hours = int(hours)\n",
    "    else:\n",
    "        hours = 0 \n",
    "        \n",
    "    mins = dur[ind_h+1:ind_m]\n",
    "    if mins!='':\n",
    "        mins = int(mins)\n",
    "    else:\n",
    "        mins = 0 \n",
    "    tot = 60*hours+mins\n",
    "    return tot\n",
    "\n",
    "df_flights['Duration'] = pd.Series([convert_dur_to_mins(dur) for dur in df_flights['Duration']])\n"
   ]
  },
  {
   "cell_type": "code",
   "execution_count": 6,
   "metadata": {},
   "outputs": [
    {
     "data": {
      "image/png": "[encoded data removed]",
      "text/plain": [
       "<Figure size 504x504 with 1 Axes>"
      ]
     },
     "metadata": {
      "needs_background": "light"
     },
     "output_type": "display_data"
    }
   ],
   "source": [
    "%matplotlib inline \n",
    "df_flights.hist(bins=50,column='Duration', figsize=(7,7))\n",
    "plt.xlabel('Duration in minutes')\n",
    "plt.ylabel('No. of flights')\n",
    "plt.show()"
   ]
  },
  {
   "cell_type": "markdown",
   "metadata": {},
   "source": [
    "it seems that there are a lot of flights that are less than 250 minutes long. They cross the atlantic ocean in less than 5 hours. Seems a bit strange as the normal non-stop flight from JFK to LHR is approximatly 7hours =  420 minutes, and the shortest 1 stop flight seems to be 530 minutes. "
   ]
  },
  {
   "cell_type": "code",
   "execution_count": 7,
   "metadata": {},
   "outputs": [
    {
     "name": "stdout",
     "output_type": "stream",
     "text": [
      "count strange flights: 5999\n",
      "count all flights: 34542\n",
      "percentage of strange flights: 17.37 %\n"
     ]
    }
   ],
   "source": [
    "non_stop_flights = df_flights.where(df_flights['Total_Stops']==0).dropna()\n",
    "strange_flights = non_stop_flights.where(non_stop_flights['Duration']<410).dropna()\n",
    "one_stop_flights = df_flights.where(df_flights['Total_Stops']==1).dropna()\n",
    "strange_flights = strange_flights.append(non_stop_flights.where(non_stop_flights['Duration']<530).dropna())\n",
    "print('count strange flights:',len(strange_flights))\n",
    "print('count all flights:', len(df_flights))\n",
    "print('percentage of strange flights:',round(len(strange_flights)/len(df_flights)*100,2),'%')"
   ]
  },
  {
   "cell_type": "markdown",
   "metadata": {},
   "source": [
    "This is really quite scary... \n",
    "If more than 17% of the flights have bad information about the duration, I'm afraid that the data provided by Amadeus is inaccurate about the other features as well, including the prices."
   ]
  },
  {
   "cell_type": "markdown",
   "metadata": {},
   "source": [
    "I came to the conclusion that this is not a good approach for the problem for the following reasons: \n",
    "\n",
    "* A lot of the data provided by Amadeus is bad. I even tried to find some of the flights on booking sites and found the departure times were also wrong. This made me think that other features might be inaccurate which could change the entire model.\n",
    "\n",
    "* All the flights seem to be part of a round trip and the price shown is for the whole trip, but none of the inbound flight information is provided, and that could be just as critical for the price prediction as is the information of the outbound flight.\n",
    "\n",
    "* The amount of data that I can collect in such little time would not represent the fluctuations of a ticket price properly. I would have needed a few months worth of data to get the real picture."
   ]
  },
  {
   "cell_type": "markdown",
   "metadata": {},
   "source": [
    "## Data Collection - Second Attempt\n",
    "I understood that Amadeus's API was not the way to go, so I went to skyscanner, and it took me a while to get an API key, but in the end I got my hands on one. So using Skyscanner's API(https://skyscanner.github.io/slate/), I wrote a script to collect flight information for tickets from JFK to LHR, for 1 adult, economy class, with a round trip returning after 7 days. I then wrote a script to take the important information that might have some effect on the price, such as airline, duration, departue and arrival time, and put it all in a csv file. I left out some information that has nothing to do with the price, such as the logo's of the different airlines and what the symbol of the dollar is.\n",
    "\n",
    "I ran the script for the the months of October-December 2020 (93 days in total, as i included  January 1st as well) collecting 106,667 different fares and their appropriate trips,\n",
    "and we'll see what this data gives us."
   ]
  },
  {
   "cell_type": "markdown",
   "metadata": {},
   "source": [
    "### Data Analizing and Preperation"
   ]
  },
  {
   "cell_type": "markdown",
   "metadata": {},
   "source": [
    "The features that I collected from skyscanner for each flight are as followes:\n",
    "* Out_Airline - airline carrier of the outbound flight\n",
    "* Out_Departure - departure date and time of the outbound flight \n",
    "* Out_Arrival - arrival date and time of the outbound flight  \n",
    "* Out_Duration - outbound flight duration (in minutes) \n",
    "* Out_Route - the route of the outbound flight\n",
    "* In_Airline - airline carrier of the inbound flight\n",
    "* In_Departure -  departure date and time of the inbound flight\n",
    "* In_Arrival - arrival date and time of the inbound flight \n",
    "* In_Duration -inbound flight duration (in minutes)\n",
    "* In_Route - the route of the inbound flight\n",
    "* Out_ID - the id skyscanner gave to the outbound flight \n",
    "* In_ID - the id skyscanner gave to the inbound flight\n",
    "* Buying_Url - link for booking the ticket\n",
    "* Price - the total ticket fare in dollars"
   ]
  },
  {
   "cell_type": "code",
   "execution_count": 8,
   "metadata": {},
   "outputs": [
    {
     "data": {
      "text/html": [
       "<div>\n",
       "<style scoped>\n",
       "    .dataframe tbody tr th:only-of-type {\n",
       "        vertical-align: middle;\n",
       "    }\n",
       "\n",
       "    .dataframe tbody tr th {\n",
       "        vertical-align: top;\n",
       "    }\n",
       "\n",
       "    .dataframe thead th {\n",
       "        text-align: right;\n",
       "    }\n",
       "</style>\n",
       "<table border=\"1\" class=\"dataframe\">\n",
       "  <thead>\n",
       "    <tr style=\"text-align: right;\">\n",
       "      <th></th>\n",
       "      <th>Out_Airline</th>\n",
       "      <th>Out_Departure</th>\n",
       "      <th>Out_Arrival</th>\n",
       "      <th>Out_Duration</th>\n",
       "      <th>Out_Route</th>\n",
       "      <th>In_Airline</th>\n",
       "      <th>In_Departure</th>\n",
       "      <th>In_Arrival</th>\n",
       "      <th>In_Duration</th>\n",
       "      <th>In_Route</th>\n",
       "      <th>Out_ID</th>\n",
       "      <th>In_ID</th>\n",
       "      <th>Buying_Url</th>\n",
       "      <th>Price</th>\n",
       "    </tr>\n",
       "  </thead>\n",
       "  <tbody>\n",
       "    <tr>\n",
       "      <th>0</th>\n",
       "      <td>British Airways</td>\n",
       "      <td>2020-10-01T21:30:00</td>\n",
       "      <td>2020-10-02T09:35:00</td>\n",
       "      <td>425</td>\n",
       "      <td>JFK→LHR</td>\n",
       "      <td>Virgin Atlantic</td>\n",
       "      <td>2020-10-08T20:15:00</td>\n",
       "      <td>2020-10-08T23:10:00</td>\n",
       "      <td>475</td>\n",
       "      <td>LHR→JFK</td>\n",
       "      <td>12712-2010012130--32222-0-13554-2010020935</td>\n",
       "      <td>13554-2010082015--32132-0-12712-2010082310</td>\n",
       "      <td>https://partners.api.skyscanner.net/apiservice...</td>\n",
       "      <td>1443.20</td>\n",
       "    </tr>\n",
       "    <tr>\n",
       "      <th>1</th>\n",
       "      <td>Air France</td>\n",
       "      <td>2020-10-01T19:30:00</td>\n",
       "      <td>2020-10-02T10:40:00</td>\n",
       "      <td>610</td>\n",
       "      <td>JFK→CDG→LHR</td>\n",
       "      <td>Delta</td>\n",
       "      <td>2020-10-08T10:20:00</td>\n",
       "      <td>2020-10-08T13:30:00</td>\n",
       "      <td>490</td>\n",
       "      <td>LHR→JFK</td>\n",
       "      <td>12712-2010011930--32677-1-13554-2010021040</td>\n",
       "      <td>13554-2010081020--32132-0-12712-2010081330</td>\n",
       "      <td>https://partners.api.skyscanner.net/apiservice...</td>\n",
       "      <td>1248.80</td>\n",
       "    </tr>\n",
       "    <tr>\n",
       "      <th>2</th>\n",
       "      <td>British Airways</td>\n",
       "      <td>2020-10-01T18:10:00</td>\n",
       "      <td>2020-10-02T06:10:00</td>\n",
       "      <td>420</td>\n",
       "      <td>JFK→LHR</td>\n",
       "      <td>British Airways</td>\n",
       "      <td>2020-10-08T09:30:00</td>\n",
       "      <td>2020-10-08T16:00:00</td>\n",
       "      <td>690</td>\n",
       "      <td>LHR→DUB→JFK</td>\n",
       "      <td>12712-2010011810--32480-0-13554-2010020610</td>\n",
       "      <td>13554-2010080930--32480-1-12712-2010081600</td>\n",
       "      <td>https://partners.api.skyscanner.net/apiservice...</td>\n",
       "      <td>1337.17</td>\n",
       "    </tr>\n",
       "    <tr>\n",
       "      <th>3</th>\n",
       "      <td>Delta</td>\n",
       "      <td>2020-10-01T08:30:00</td>\n",
       "      <td>2020-10-02T08:25:00</td>\n",
       "      <td>1135</td>\n",
       "      <td>JFK→ATL→LHR</td>\n",
       "      <td>Delta</td>\n",
       "      <td>2020-10-08T10:20:00</td>\n",
       "      <td>2020-10-08T13:30:00</td>\n",
       "      <td>490</td>\n",
       "      <td>LHR→JFK</td>\n",
       "      <td>12712-2010010830--31697-1-13554-2010020825</td>\n",
       "      <td>13554-2010081020--31697-0-12712-2010081330</td>\n",
       "      <td>https://partners.api.skyscanner.net/apiservice...</td>\n",
       "      <td>1234.25</td>\n",
       "    </tr>\n",
       "    <tr>\n",
       "      <th>4</th>\n",
       "      <td>British Airways</td>\n",
       "      <td>2020-10-01T21:30:00</td>\n",
       "      <td>2020-10-02T09:35:00</td>\n",
       "      <td>425</td>\n",
       "      <td>JFK→LHR</td>\n",
       "      <td>British Airways</td>\n",
       "      <td>2020-10-08T10:45:00</td>\n",
       "      <td>2020-10-08T13:35:00</td>\n",
       "      <td>470</td>\n",
       "      <td>LHR→JFK</td>\n",
       "      <td>12712-2010012130--32317-0-13554-2010020935</td>\n",
       "      <td>13554-2010081045--32222-0-12712-2010081335</td>\n",
       "      <td>https://partners.api.skyscanner.net/apiservice...</td>\n",
       "      <td>1281.00</td>\n",
       "    </tr>\n",
       "  </tbody>\n",
       "</table>\n",
       "</div>"
      ],
      "text/plain": [
       "       Out_Airline        Out_Departure          Out_Arrival  Out_Duration  \\\n",
       "0  British Airways  2020-10-01T21:30:00  2020-10-02T09:35:00           425   \n",
       "1       Air France  2020-10-01T19:30:00  2020-10-02T10:40:00           610   \n",
       "2  British Airways  2020-10-01T18:10:00  2020-10-02T06:10:00           420   \n",
       "3            Delta  2020-10-01T08:30:00  2020-10-02T08:25:00          1135   \n",
       "4  British Airways  2020-10-01T21:30:00  2020-10-02T09:35:00           425   \n",
       "\n",
       "     Out_Route       In_Airline         In_Departure           In_Arrival  \\\n",
       "0      JFK→LHR  Virgin Atlantic  2020-10-08T20:15:00  2020-10-08T23:10:00   \n",
       "1  JFK→CDG→LHR            Delta  2020-10-08T10:20:00  2020-10-08T13:30:00   \n",
       "2      JFK→LHR  British Airways  2020-10-08T09:30:00  2020-10-08T16:00:00   \n",
       "3  JFK→ATL→LHR            Delta  2020-10-08T10:20:00  2020-10-08T13:30:00   \n",
       "4      JFK→LHR  British Airways  2020-10-08T10:45:00  2020-10-08T13:35:00   \n",
       "\n",
       "   In_Duration     In_Route                                      Out_ID  \\\n",
       "0          475      LHR→JFK  12712-2010012130--32222-0-13554-2010020935   \n",
       "1          490      LHR→JFK  12712-2010011930--32677-1-13554-2010021040   \n",
       "2          690  LHR→DUB→JFK  12712-2010011810--32480-0-13554-2010020610   \n",
       "3          490      LHR→JFK  12712-2010010830--31697-1-13554-2010020825   \n",
       "4          470      LHR→JFK  12712-2010012130--32317-0-13554-2010020935   \n",
       "\n",
       "                                        In_ID  \\\n",
       "0  13554-2010082015--32132-0-12712-2010082310   \n",
       "1  13554-2010081020--32132-0-12712-2010081330   \n",
       "2  13554-2010080930--32480-1-12712-2010081600   \n",
       "3  13554-2010081020--31697-0-12712-2010081330   \n",
       "4  13554-2010081045--32222-0-12712-2010081335   \n",
       "\n",
       "                                          Buying_Url    Price  \n",
       "0  https://partners.api.skyscanner.net/apiservice...  1443.20  \n",
       "1  https://partners.api.skyscanner.net/apiservice...  1248.80  \n",
       "2  https://partners.api.skyscanner.net/apiservice...  1337.17  \n",
       "3  https://partners.api.skyscanner.net/apiservice...  1234.25  \n",
       "4  https://partners.api.skyscanner.net/apiservice...  1281.00  "
      ]
     },
     "execution_count": 8,
     "metadata": {},
     "output_type": "execute_result"
    }
   ],
   "source": [
    "df_flights = pd.read_csv('AirFare_Skyscanner.csv')\n",
    "df_flights.head()"
   ]
  },
  {
   "cell_type": "markdown",
   "metadata": {},
   "source": [
    "#### Check for missing values or duplicates "
   ]
  },
  {
   "cell_type": "code",
   "execution_count": 9,
   "metadata": {},
   "outputs": [
    {
     "name": "stdout",
     "output_type": "stream",
     "text": [
      "Total duplicate rows except first occurrence based on all columns are : 0\n"
     ]
    }
   ],
   "source": [
    "duplicate_rows = df_flights[df_flights.duplicated()]\n",
    "print(\"Total duplicate rows except first occurrence based on all columns are :\",len(duplicate_rows))\n"
   ]
  },
  {
   "cell_type": "code",
   "execution_count": 10,
   "metadata": {},
   "outputs": [
    {
     "data": {
      "text/plain": [
       "Out_Airline      0\n",
       "Out_Departure    0\n",
       "Out_Arrival      0\n",
       "Out_Duration     0\n",
       "Out_Route        0\n",
       "In_Airline       0\n",
       "In_Departure     0\n",
       "In_Arrival       0\n",
       "In_Duration      0\n",
       "In_Route         0\n",
       "Out_ID           0\n",
       "In_ID            0\n",
       "Buying_Url       0\n",
       "Price            0\n",
       "dtype: int64"
      ]
     },
     "execution_count": 10,
     "metadata": {},
     "output_type": "execute_result"
    }
   ],
   "source": [
    "df_flights.isnull().sum()"
   ]
  },
  {
   "cell_type": "code",
   "execution_count": 11,
   "metadata": {},
   "outputs": [
    {
     "name": "stdout",
     "output_type": "stream",
     "text": [
      "<class 'pandas.core.frame.DataFrame'>\n",
      "RangeIndex: 106667 entries, 0 to 106666\n",
      "Data columns (total 14 columns):\n",
      " #   Column         Non-Null Count   Dtype  \n",
      "---  ------         --------------   -----  \n",
      " 0   Out_Airline    106667 non-null  object \n",
      " 1   Out_Departure  106667 non-null  object \n",
      " 2   Out_Arrival    106667 non-null  object \n",
      " 3   Out_Duration   106667 non-null  int64  \n",
      " 4   Out_Route      106667 non-null  object \n",
      " 5   In_Airline     106667 non-null  object \n",
      " 6   In_Departure   106667 non-null  object \n",
      " 7   In_Arrival     106667 non-null  object \n",
      " 8   In_Duration    106667 non-null  int64  \n",
      " 9   In_Route       106667 non-null  object \n",
      " 10  Out_ID         106667 non-null  object \n",
      " 11  In_ID          106667 non-null  object \n",
      " 12  Buying_Url     106667 non-null  object \n",
      " 13  Price          106667 non-null  float64\n",
      "dtypes: float64(1), int64(2), object(11)\n",
      "memory usage: 11.4+ MB\n"
     ]
    }
   ],
   "source": [
    "df_flights.info()"
   ]
  },
  {
   "cell_type": "markdown",
   "metadata": {},
   "source": [
    "#### Creating the Test Set  "
   ]
  },
  {
   "cell_type": "markdown",
   "metadata": {},
   "source": [
    "Since we're interested in creating a good model, we'll have to see if it really is  is good by testing it on different data. Therefore we'll create a test set by setting aside 20% of the data from our dataframe\n",
    "It's good to have a stable train/test split even after the dataset gets updated (if I end up updating it in the future), so I'll be using the instance’s identifier to decide whether or not it should go in the test set.\n",
    "Updates therefore need to be appended to the end(!) of the dataset."
   ]
  },
  {
   "cell_type": "code",
   "execution_count": 12,
   "metadata": {},
   "outputs": [
    {
     "name": "stdout",
     "output_type": "stream",
     "text": [
      "training set length: 85333 \n",
      "test set length:  21334\n"
     ]
    }
   ],
   "source": [
    "#  we'll compute a hash of each instance’s identifier and put that instance in the test set if the\n",
    "# hash is lower than or equal to 20% of the maximum hash value\n",
    "from zlib import crc32\n",
    "def test_set_check(identifier, test_ratio):\n",
    "    return crc32(np.int64(identifier)) & 0xffffffff < test_ratio * 2**32\n",
    "def split_train_test_by_id(data, test_ratio, id_column):\n",
    "    ids = data[id_column]\n",
    "    in_test_set = ids.apply(lambda id_: test_set_check(id_, test_ratio))\n",
    "    return data.loc[~in_test_set], data.loc[in_test_set]\n",
    "\n",
    " # adds an `index` column\n",
    "fares_with_id = df_flights.reset_index()\n",
    "train_set, test_set = split_train_test_by_id(fares_with_id, 0.2, \"index\")\n",
    "\n",
    "print('training set length:', len(train_set), '\\ntest set length: ',len(test_set))"
   ]
  },
  {
   "cell_type": "markdown",
   "metadata": {},
   "source": [
    "#### Feature extraction "
   ]
  },
  {
   "cell_type": "markdown",
   "metadata": {},
   "source": [
    "We'd prefer having features that'll help us, so I'll use the dates to find out about which month and day the flight takes place, and whether it was on a weekend and which day of the week it's on, as these could definitly help us figure out what the price is.\n",
    "Also we'll categorize the times to be morning, afternoon, evening, or night flight.\n"
   ]
  },
  {
   "cell_type": "code",
   "execution_count": 13,
   "metadata": {},
   "outputs": [],
   "source": [
    "def departtime(x):\n",
    "    tt=(int)(x.split(':')[0])\n",
    "    if(tt >= 16 and tt < 21):\n",
    "        x='Evening'\n",
    "    elif(tt >= 21 or tt < 5):\n",
    "        x='Night'\n",
    "    elif(tt >= 5 and tt < 11):\n",
    "        x='Morning'\n",
    "    elif(tt >= 11 and tt < 16):\n",
    "        x='Afternoon'\n",
    "    return x\n",
    "\n",
    "out_hours = []\n",
    "for dep in train_set['Out_Departure']:\n",
    "    out_hours.append(dep[11:13])\n",
    "train_set.insert(6, 'Out_Time',  list(pd.Series(out_hours).apply(departtime)))\n",
    "\n",
    "in_hours = []\n",
    "for dep in train_set['In_Departure']:\n",
    "    in_hours.append(dep[11:13])\n",
    "train_set.insert(12, 'In_Time',  list(pd.Series(in_hours).apply(departtime)))\n",
    "\n"
   ]
  },
  {
   "cell_type": "code",
   "execution_count": 14,
   "metadata": {},
   "outputs": [
    {
     "data": {
      "text/plain": [
       "Text(0.5, 0, 'Inbound Flight Time')"
      ]
     },
     "execution_count": 14,
     "metadata": {},
     "output_type": "execute_result"
    },
    {
     "data": {
      "image/png": "[encoded data removed]",
      "text/plain": [
       "<Figure size 720x360 with 2 Axes>"
      ]
     },
     "metadata": {
      "needs_background": "light"
     },
     "output_type": "display_data"
    }
   ],
   "source": [
    "fig, ax = plt.subplots(figsize=(10,5), ncols=2, nrows=1)\n",
    "\n",
    "plt.suptitle(\"Count Plots for Flight Times\", y = 1, fontsize=20)\n",
    "plt.ylabel('count flights')\n",
    "\n",
    "plt.xlabel('')\n",
    "plt.ylabel('Count of flights')\n",
    "\n",
    "sns.countplot(x = 'Out_Time', data = train_set, ax=ax[0],order = train_set['Out_Time'].value_counts().index)\n",
    "sns.countplot(x = 'In_Time', data = train_set,order = train_set['Out_Time'].value_counts().index)\n",
    "\n",
    "ax[0].set_ylabel('No. of flights')\n",
    "ax[0].set_xlabel('Outbound Flight Time',fontsize=15)\n",
    "ax[1].set_ylabel('')\n",
    "ax[1].set_xlabel('Inbound Flight Time',fontsize=15)\n",
    "\n"
   ]
  },
  {
   "cell_type": "code",
   "execution_count": 15,
   "metadata": {},
   "outputs": [],
   "source": [
    "def get_as_date_format(date_as_str):\n",
    "    return pd.to_datetime(date_as_str, format = '%Y/%m/%d')\n",
    "\n",
    "out_date = []\n",
    "for dep in train_set['Out_Departure']:\n",
    "    out_date.append(dep[:10])\n",
    "\n",
    "out_date = (pd.Series(out_date)).apply(get_as_date_format)\n",
    "\n",
    "train_set.insert(3,'Out_Is_Weekend',list((out_date.dt.dayofweek// 5 == 1).astype(int)))\n",
    "train_set.insert(3,'Out_Day_Of_Week', list(out_date.dt.day_name()))\n",
    "train_set.insert(3,'Out_Day_Of_Month', list(out_date.dt.day))\n",
    "train_set.insert(3,'Out_Month', list(out_date.dt.month))"
   ]
  },
  {
   "cell_type": "code",
   "execution_count": 16,
   "metadata": {},
   "outputs": [],
   "source": [
    "in_date = []\n",
    "for dep in train_set['In_Departure']:\n",
    "    in_date.append(dep[:10])\n",
    "\n",
    "in_date = (pd.Series(in_date)).apply(get_as_date_format)\n",
    "\n",
    "train_set.insert(13,'In_Is_Weekend',list((in_date.dt.dayofweek// 5 == 1).astype(int)))\n",
    "train_set.insert(13,'In_Day_Of_Week', list(in_date.dt.day_name()))\n",
    "train_set.insert(13,'In_Day_Of_Month', list(in_date.dt.day))\n",
    "train_set.insert(13,'In_Month', list(in_date.dt.month))\n"
   ]
  },
  {
   "cell_type": "code",
   "execution_count": 17,
   "metadata": {},
   "outputs": [
    {
     "data": {
      "image/png": "[encoded data removed]",
      "text/plain": [
       "<Figure size 576x576 with 1 Axes>"
      ]
     },
     "metadata": {
      "needs_background": "light"
     },
     "output_type": "display_data"
    }
   ],
   "source": [
    "plt.figure(figsize = (8, 8))\n",
    "plt.title('Count of Flights Month Wise')\n",
    "ax=sns.countplot(x = 'Out_Month', data = train_set)\n",
    "plt.xlabel('Month')\n",
    "plt.ylabel('Count of Flights')\n",
    "for p in ax.patches:\n",
    "    ax.annotate(int(p.get_height()), (p.get_x()+0.25, p.get_height()+1), va='bottom',\n",
    "                    color= 'black')"
   ]
  },
  {
   "cell_type": "code",
   "execution_count": 18,
   "metadata": {},
   "outputs": [
    {
     "data": {
      "text/html": [
       "<div>\n",
       "<style scoped>\n",
       "    .dataframe tbody tr th:only-of-type {\n",
       "        vertical-align: middle;\n",
       "    }\n",
       "\n",
       "    .dataframe tbody tr th {\n",
       "        vertical-align: top;\n",
       "    }\n",
       "\n",
       "    .dataframe thead th {\n",
       "        text-align: right;\n",
       "    }\n",
       "</style>\n",
       "<table border=\"1\" class=\"dataframe\">\n",
       "  <thead>\n",
       "    <tr style=\"text-align: right;\">\n",
       "      <th></th>\n",
       "      <th>Price Mean</th>\n",
       "    </tr>\n",
       "    <tr>\n",
       "      <th>Out_Month</th>\n",
       "      <th></th>\n",
       "    </tr>\n",
       "  </thead>\n",
       "  <tbody>\n",
       "    <tr>\n",
       "      <th>1</th>\n",
       "      <td>974.456090</td>\n",
       "    </tr>\n",
       "    <tr>\n",
       "      <th>10</th>\n",
       "      <td>1411.197396</td>\n",
       "    </tr>\n",
       "    <tr>\n",
       "      <th>11</th>\n",
       "      <td>827.108075</td>\n",
       "    </tr>\n",
       "    <tr>\n",
       "      <th>12</th>\n",
       "      <td>929.145171</td>\n",
       "    </tr>\n",
       "  </tbody>\n",
       "</table>\n",
       "</div>"
      ],
      "text/plain": [
       "            Price Mean\n",
       "Out_Month             \n",
       "1           974.456090\n",
       "10         1411.197396\n",
       "11          827.108075\n",
       "12          929.145171"
      ]
     },
     "execution_count": 18,
     "metadata": {},
     "output_type": "execute_result"
    }
   ],
   "source": [
    "train_set.groupby(['Out_Month']).mean().loc[:, ['Price']].rename(columns={'Price': 'Price Mean'})"
   ]
  },
  {
   "cell_type": "code",
   "execution_count": 19,
   "metadata": {},
   "outputs": [
    {
     "data": {
      "text/html": [
       "<div>\n",
       "<style scoped>\n",
       "    .dataframe tbody tr th:only-of-type {\n",
       "        vertical-align: middle;\n",
       "    }\n",
       "\n",
       "    .dataframe tbody tr th {\n",
       "        vertical-align: top;\n",
       "    }\n",
       "\n",
       "    .dataframe thead th {\n",
       "        text-align: right;\n",
       "    }\n",
       "</style>\n",
       "<table border=\"1\" class=\"dataframe\">\n",
       "  <thead>\n",
       "    <tr style=\"text-align: right;\">\n",
       "      <th></th>\n",
       "      <th>Price Mean</th>\n",
       "    </tr>\n",
       "    <tr>\n",
       "      <th>Out_Day_Of_Week</th>\n",
       "      <th></th>\n",
       "    </tr>\n",
       "  </thead>\n",
       "  <tbody>\n",
       "    <tr>\n",
       "      <th>Friday</th>\n",
       "      <td>1042.700043</td>\n",
       "    </tr>\n",
       "    <tr>\n",
       "      <th>Monday</th>\n",
       "      <td>972.465366</td>\n",
       "    </tr>\n",
       "    <tr>\n",
       "      <th>Saturday</th>\n",
       "      <td>1100.218328</td>\n",
       "    </tr>\n",
       "    <tr>\n",
       "      <th>Sunday</th>\n",
       "      <td>980.277329</td>\n",
       "    </tr>\n",
       "    <tr>\n",
       "      <th>Thursday</th>\n",
       "      <td>1097.297041</td>\n",
       "    </tr>\n",
       "    <tr>\n",
       "      <th>Tuesday</th>\n",
       "      <td>969.025647</td>\n",
       "    </tr>\n",
       "    <tr>\n",
       "      <th>Wednesday</th>\n",
       "      <td>930.313891</td>\n",
       "    </tr>\n",
       "  </tbody>\n",
       "</table>\n",
       "</div>"
      ],
      "text/plain": [
       "                  Price Mean\n",
       "Out_Day_Of_Week             \n",
       "Friday           1042.700043\n",
       "Monday            972.465366\n",
       "Saturday         1100.218328\n",
       "Sunday            980.277329\n",
       "Thursday         1097.297041\n",
       "Tuesday           969.025647\n",
       "Wednesday         930.313891"
      ]
     },
     "execution_count": 19,
     "metadata": {},
     "output_type": "execute_result"
    }
   ],
   "source": [
    "train_set.groupby(['Out_Day_Of_Week']).mean().loc[:, ['Price']].rename(columns={'Price': 'Price Mean'})"
   ]
  },
  {
   "cell_type": "code",
   "execution_count": 20,
   "metadata": {},
   "outputs": [
    {
     "data": {
      "text/html": [
       "<div>\n",
       "<style scoped>\n",
       "    .dataframe tbody tr th:only-of-type {\n",
       "        vertical-align: middle;\n",
       "    }\n",
       "\n",
       "    .dataframe tbody tr th {\n",
       "        vertical-align: top;\n",
       "    }\n",
       "\n",
       "    .dataframe thead th {\n",
       "        text-align: right;\n",
       "    }\n",
       "</style>\n",
       "<table border=\"1\" class=\"dataframe\">\n",
       "  <thead>\n",
       "    <tr style=\"text-align: right;\">\n",
       "      <th></th>\n",
       "      <th>Price Mean</th>\n",
       "    </tr>\n",
       "    <tr>\n",
       "      <th>Out_Is_Weekend</th>\n",
       "      <th></th>\n",
       "    </tr>\n",
       "  </thead>\n",
       "  <tbody>\n",
       "    <tr>\n",
       "      <th>0</th>\n",
       "      <td>1002.658793</td>\n",
       "    </tr>\n",
       "    <tr>\n",
       "      <th>1</th>\n",
       "      <td>1039.310672</td>\n",
       "    </tr>\n",
       "  </tbody>\n",
       "</table>\n",
       "</div>"
      ],
      "text/plain": [
       "                 Price Mean\n",
       "Out_Is_Weekend             \n",
       "0               1002.658793\n",
       "1               1039.310672"
      ]
     },
     "execution_count": 20,
     "metadata": {},
     "output_type": "execute_result"
    }
   ],
   "source": [
    "train_set.groupby(['Out_Is_Weekend']).mean().loc[:, ['Price']].rename(columns={'Price': 'Price Mean'})"
   ]
  },
  {
   "cell_type": "markdown",
   "metadata": {},
   "source": [
    "#### Get rid of unnecessary columns - due to feature extraction"
   ]
  },
  {
   "cell_type": "code",
   "execution_count": 21,
   "metadata": {},
   "outputs": [],
   "source": [
    "train_set= train_set.drop(columns=['In_Departure','Out_Departure','In_Arrival','In_Arrival'])"
   ]
  },
  {
   "cell_type": "markdown",
   "metadata": {},
   "source": [
    "Let's see the distribution of the prices over the airlines"
   ]
  },
  {
   "cell_type": "code",
   "execution_count": 387,
   "metadata": {},
   "outputs": [
    {
     "data": {
      "image/png": "[encoded data removed]",
      "text/plain": [
       "<Figure size 1080x720 with 1 Axes>"
      ]
     },
     "metadata": {
      "needs_background": "light"
     },
     "output_type": "display_data"
    }
   ],
   "source": [
    "plt.figure(figsize = (15, 10))\n",
    "plt.title('Count of flights with different Airlines')\n",
    "ax=sns.countplot(x = 'Out_Airline', data =train_set)\n",
    "plt.xlabel('Airline')\n",
    "plt.ylabel('Count of flights')\n",
    "plt.xticks(rotation = 90)\n",
    "\n",
    "for p in ax.patches:\n",
    "    ax.annotate(int(p.get_height()), (p.get_x(), p.get_height()+1), va='bottom',\n",
    "                    color= 'black')"
   ]
  },
  {
   "cell_type": "code",
   "execution_count": 22,
   "metadata": {},
   "outputs": [
    {
     "data": {
      "image/png": "[encoded data removed]",
      "text/plain": [
       "<Figure size 720x720 with 1 Axes>"
      ]
     },
     "metadata": {
      "needs_background": "light"
     },
     "output_type": "display_data"
    }
   ],
   "source": [
    "plt.figure(figsize = (10,10))\n",
    "plt.title('Price VS Outbound Airlines')\n",
    "plt.scatter(train_set['Out_Airline'], train_set['Price'],alpha=0.1)\n",
    "plt.xticks(rotation = 90)\n",
    "plt.xlabel('Airline')\n",
    "plt.ylabel('Price of ticket')\n",
    "plt.xticks(rotation = 90)\n",
    "plt.show()"
   ]
  },
  {
   "cell_type": "markdown",
   "metadata": {},
   "source": [
    "It would seem that on the outbound flights the only airlines that are very overpriced are Qatar Airways and American Airlines."
   ]
  },
  {
   "cell_type": "markdown",
   "metadata": {},
   "source": [
    "I plan to compare more features one with another, to see what can be discarded and what has more effect on the price"
   ]
  },
  {
   "cell_type": "markdown",
   "metadata": {},
   "source": [
    "#### Encoding text into numbers\n",
    "we'll start with the airlines "
   ]
  },
  {
   "cell_type": "code",
   "execution_count": 24,
   "metadata": {},
   "outputs": [
    {
     "data": {
      "text/plain": [
       "array([[0., 0., 0., ..., 0., 0., 0.],\n",
       "       [0., 0., 0., ..., 0., 0., 0.],\n",
       "       [0., 0., 0., ..., 0., 0., 0.],\n",
       "       ...,\n",
       "       [0., 0., 0., ..., 0., 0., 0.],\n",
       "       [0., 0., 0., ..., 0., 0., 0.],\n",
       "       [0., 0., 0., ..., 0., 0., 0.]])"
      ]
     },
     "execution_count": 24,
     "metadata": {},
     "output_type": "execute_result"
    }
   ],
   "source": [
    "from sklearn.preprocessing import OneHotEncoder\n",
    "tr_set = train_set.drop(columns = ['Price','Out_ID','In_ID'])\n",
    "cat_encoder = OneHotEncoder()\n",
    "tr_set_1hot = cat_encoder.fit_transform(tr_set[['Out_Airline']])\n",
    "tr_set_1hot.toarray()\n"
   ]
  },
  {
   "cell_type": "code",
   "execution_count": 25,
   "metadata": {},
   "outputs": [
    {
     "data": {
      "text/plain": [
       "[array(['ANA (All Nippon Airways)', 'Aer Lingus', 'Aeroflot', 'Aeromexico',\n",
       "        'Air France', 'Air Serbia', 'Alitalia', 'American Airlines',\n",
       "        'Avianca', 'British Airways', 'Brussels Airlines',\n",
       "        'Canaryfly for Air Nostrum AS Iberia', 'Cathay Pacific', 'Delta',\n",
       "        'EL AL Israel Airlines', 'EVA Air', 'EgyptAir', 'Endeavor Air',\n",
       "        'Endeavor DBA Delta Connection', 'Envoy Air As American Eagle',\n",
       "        'Etihad Airways', 'Finnair', 'Iberia', 'Iberia For Level',\n",
       "        'Icelandair', 'KLM', 'LOT', 'Lufthansa',\n",
       "        'PSA Airlines AS American Eagle', 'Qatar Airways',\n",
       "        'Republic Airline DBA Delta Connection',\n",
       "        'Republic Airlines AS American Eagle', 'Royal Air Maroc',\n",
       "        'Royal Jordanian', 'SWISS', 'TAP Air Portugal', 'Turkish Airlines',\n",
       "        'Virgin Atlantic', 'jetBlue'], dtype=object)]"
      ]
     },
     "execution_count": 25,
     "metadata": {},
     "output_type": "execute_result"
    }
   ],
   "source": [
    "cat_encoder.categories_\n"
   ]
  },
  {
   "cell_type": "markdown",
   "metadata": {},
   "source": [
    "I might want to get rid of some of the data that isn't representitve, and I might also want to group the airlines that barely have any flights, though I'm still debating...\n",
    "Also, I'll need to do some more encoding "
   ]
  },
  {
   "cell_type": "markdown",
   "metadata": {},
   "source": [
    "#### Feature Scaling "
   ]
  },
  {
   "cell_type": "markdown",
   "metadata": {},
   "source": [
    "need to do this..."
   ]
  },
  {
   "cell_type": "code",
   "execution_count": null,
   "metadata": {},
   "outputs": [],
   "source": []
  },
  {
   "cell_type": "markdown",
   "metadata": {},
   "source": [
    "## Comparing Different Models "
   ]
  },
  {
   "cell_type": "markdown",
   "metadata": {},
   "source": [
    "After all, this is a regression problem, so we'll be trying out some different models to help us predict the prices\n",
    "I'm still not so sure exactly which models I'll be comparing, but I have some ideas."
   ]
  },
  {
   "cell_type": "code",
   "execution_count": 26,
   "metadata": {},
   "outputs": [],
   "source": [
    "from sklearn.preprocessing import StandardScaler\n",
    "from sklearn.model_selection import train_test_split\n",
    "from sklearn.metrics import mean_squared_error as mse\n",
    "from sklearn.metrics import r2_score\n",
    "\n",
    "from math import sqrt\n",
    "\n",
    "from sklearn.model_selection import GridSearchCV\n",
    "from sklearn.model_selection import RandomizedSearchCV\n",
    "\n",
    "from sklearn.neighbors import KNeighborsRegressor\n",
    "from sklearn.linear_model import Ridge\n",
    "from sklearn.linear_model import Lasso\n",
    "from sklearn.tree import DecisionTreeRegressor\n",
    "from sklearn.ensemble import RandomForestRegressor\n",
    "from xgboost import XGBRegressor\n",
    "from sklearn.model_selection import KFold\n"
   ]
  },
  {
   "cell_type": "markdown",
   "metadata": {},
   "source": [
    "### Testing Final Model on Test Set"
   ]
  },
  {
   "cell_type": "code",
   "execution_count": null,
   "metadata": {},
   "outputs": [],
   "source": []
  },
  {
   "cell_type": "code",
   "execution_count": null,
   "metadata": {},
   "outputs": [],
   "source": []
  },
  {
   "cell_type": "code",
   "execution_count": null,
   "metadata": {},
   "outputs": [],
   "source": []
  },
  {
   "cell_type": "code",
   "execution_count": null,
   "metadata": {},
   "outputs": [],
   "source": []
  },
  {
   "cell_type": "markdown",
   "metadata": {},
   "source": [
    "### My thoughts for the future and things to do \n"
   ]
  },
  {
   "cell_type": "markdown",
   "metadata": {},
   "source": [
    "In general, because I wasted so much time on working with amadeus's information, I didn't have so long to work on the information from Skyscanner.\n",
    "I still need to finish preparing the data for the training models, decide which models would be the best, and to test the final model with the test set. Therefore, I have yet to analize whether my models are successful, or whether they overfit the data and likewise.\n",
    "I think that overall I understand what needs to be done and more or less of how to do it.\n",
    "I hope my final model is really representitve and works in real life.\n",
    "Though I have a feeling that I'll need to update the data from time to time if I want it to continue to predict correctly...\n"
   ]
  },
  {
   "cell_type": "code",
   "execution_count": null,
   "metadata": {},
   "outputs": [],
   "source": []
  }
 ],
 "metadata": {
  "kernelspec": {
   "display_name": "Python 3",
   "language": "python",
   "name": "python3"
  },
  "language_info": {
   "codemirror_mode": {
    "name": "ipython",
    "version": 3
   },
   "file_extension": ".py",
   "mimetype": "text/x-python",
   "name": "python",
   "nbconvert_exporter": "python",
   "pygments_lexer": "ipython3",
   "version": "3.7.6"
  }
 },
 "nbformat": 4,
 "nbformat_minor": 4
}
